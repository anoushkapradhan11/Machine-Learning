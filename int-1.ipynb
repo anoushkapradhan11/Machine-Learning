{
 "cells": [
  {
   "cell_type": "code",
   "execution_count": null,
   "id": "05aae34b",
   "metadata": {},
   "outputs": [
    {
     "name": "stdout",
     "output_type": "stream",
     "text": [
      "3.12.1 (tags/v3.12.1:2305ca5, Dec  7 2023, 22:03:25) [MSC v.1937 64 bit (AMD64)]\n",
      "sys.version_info(major=3, minor=12, micro=1, releaselevel='final', serial=0)\n"
     ]
    }
   ],
   "source": [
    "#Question-1\n",
    "import sys\n",
    "print(sys.version)\n",
    "print(sys.version_info)"
   ]
  },
  {
   "cell_type": "code",
   "execution_count": 5,
   "id": "6f181bbe",
   "metadata": {},
   "outputs": [
    {
     "name": "stdout",
     "output_type": "stream",
     "text": [
      "2025-05-20 21:50:26.201493\n",
      "2025-05-20 21:50:26\n"
     ]
    }
   ],
   "source": [
    "#Question-2\n",
    "import datetime\n",
    "x=datetime.datetime.now()\n",
    "print(x)\n",
    "print(x.strftime(\"%Y-%m-%d %H:%M:%S\"))"
   ]
  },
  {
   "cell_type": "code",
   "execution_count": 1,
   "id": "4f56227c",
   "metadata": {},
   "outputs": [
    {
     "name": "stdout",
     "output_type": "stream",
     "text": [
      "Area of circle: 3.8013271108436504\n"
     ]
    }
   ],
   "source": [
    "#Question-3\n",
    "from math import pi\n",
    "r=float(input(\"Enter the radius\"))\n",
    "ar=pi*r*r\n",
    "print(\"Area of circle:\",ar)"
   ]
  },
  {
   "cell_type": "code",
   "execution_count": null,
   "id": "2c5b42fb",
   "metadata": {},
   "outputs": [
    {
     "name": "stdout",
     "output_type": "stream",
     "text": [
      "Singh Anit\n"
     ]
    }
   ],
   "source": [
    "#Question-4\n",
    "fname=input(\"Enter the first name\")\n",
    "lname=input(\"Enter the lastname\")\n",
    "print(lname+\" \"+fname)"
   ]
  },
  {
   "cell_type": "code",
   "execution_count": 10,
   "id": "a3245d13",
   "metadata": {},
   "outputs": [
    {
     "name": "stdout",
     "output_type": "stream",
     "text": [
      "List1: ['apple,banana,mango,cherry']\n",
      "Tuple1: ('apple,banana,mango,cherry',)\n",
      "['apple', 'banana', 'cherry', 'mango']\n"
     ]
    }
   ],
   "source": [
    "#Question-5\n",
    "values=input(\"Input the comma separated number:\")\n",
    "list1=values.split(\", \")\n",
    "tuple1=tuple(list1)\n",
    "print(\"List1:\",list1)\n",
    "print(\"Tuple1:\",tuple1)\n",
    "txt=\"apple#banana#cherry#mango\"\n",
    "value=txt.split(\"#\")\n",
    "print(value)"
   ]
  },
  {
   "cell_type": "code",
   "execution_count": 9,
   "id": "41fa3bf5",
   "metadata": {},
   "outputs": [
    {
     "name": "stdout",
     "output_type": "stream",
     "text": [
      "'java'\n"
     ]
    }
   ],
   "source": [
    "#Question-6\n",
    "fname=input(\"Enter the filename:\")\n",
    "fext=fname.split(\".\")\n",
    "print(repr(fext[-1]))"
   ]
  },
  {
   "cell_type": "code",
   "execution_count": 11,
   "id": "4d14c297",
   "metadata": {},
   "outputs": [
    {
     "name": "stdout",
     "output_type": "stream",
     "text": [
      "Red Black\n"
     ]
    }
   ],
   "source": [
    "#Question-7\n",
    "colors=['Red','Green','Blue','Black']\n",
    "print(colors[0],colors[-1])"
   ]
  },
  {
   "cell_type": "code",
   "execution_count": 12,
   "id": "3cff9d6a",
   "metadata": {},
   "outputs": [
    {
     "name": "stdout",
     "output_type": "stream",
     "text": [
      "615\n"
     ]
    }
   ],
   "source": [
    "#Question-8\n",
    "num=int(input(\"Enter the number:\"))\n",
    "n1=int(\"%s\"%num)\n",
    "n2=int(\"%s%s\"%(num,num))\n",
    "n3=int(\"%s%s%s\"%(num,num,num))\n",
    "print(n1+n2+n3)"
   ]
  },
  {
   "cell_type": "code",
   "execution_count": 14,
   "id": "324b2804",
   "metadata": {},
   "outputs": [
    {
     "name": "stdout",
     "output_type": "stream",
     "text": [
      "678.5840131753953\n"
     ]
    }
   ],
   "source": [
    "#Question-9\n",
    "from math import pi\n",
    "radius=float(input(\"Enter the radius:\"))\n",
    "volume=(4//3)*pi*(radius**3)\n",
    "print(volume)"
   ]
  },
  {
   "cell_type": "code",
   "execution_count": 16,
   "id": "3d75e621",
   "metadata": {},
   "outputs": [
    {
     "name": "stdout",
     "output_type": "stream",
     "text": [
      "0 days:0 hours:0 minutes:20 seconds\n"
     ]
    }
   ],
   "source": [
    "time=float(input(\"Enter the seconds:\"))\n",
    "day=time//(24*3600)\n",
    "time=time%(24*3600)\n",
    "hour=time//3600\n",
    "time%=3600\n",
    "minutes=time//60\n",
    "time%=60\n",
    "second=time\n",
    "print(\"%d days:%d hours:%d minutes:%d seconds\"%(day,hour,minutes,second))"
   ]
  },
  {
   "cell_type": "code",
   "execution_count": null,
   "id": "47072659",
   "metadata": {},
   "outputs": [],
   "source": []
  }
 ],
 "metadata": {
  "kernelspec": {
   "display_name": "Python 3",
   "language": "python",
   "name": "python3"
  },
  "language_info": {
   "codemirror_mode": {
    "name": "ipython",
    "version": 3
   },
   "file_extension": ".py",
   "mimetype": "text/x-python",
   "name": "python",
   "nbconvert_exporter": "python",
   "pygments_lexer": "ipython3",
   "version": "3.12.1"
  }
 },
 "nbformat": 4,
 "nbformat_minor": 5
}
