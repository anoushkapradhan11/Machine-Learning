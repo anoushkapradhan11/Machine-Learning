{
 "cells": [
  {
   "cell_type": "code",
   "execution_count": 2,
   "id": "7f992d57",
   "metadata": {},
   "outputs": [
    {
     "data": {
      "text/plain": [
       "'c:\\\\Users\\\\WINDOWS-11\\\\OneDrive\\\\Documents\\\\Internship'"
      ]
     },
     "execution_count": 2,
     "metadata": {},
     "output_type": "execute_result"
    }
   ],
   "source": [
    "import pandas as pd\n",
    "import numpy as np\n",
    "import os\n",
    "os.getcwd()"
   ]
  },
  {
   "cell_type": "code",
   "execution_count": 3,
   "id": "52775bcd",
   "metadata": {},
   "outputs": [
    {
     "data": {
      "text/plain": [
       "array([[9.0000e+00, 3.5710e+03, 1.9760e+03, 5.2500e-01],\n",
       "       [9.0000e+00, 4.0920e+03, 1.2500e+03, 5.7200e-01],\n",
       "       [9.0000e+00, 3.8650e+03, 1.5860e+03, 5.8000e-01],\n",
       "       [7.5000e+00, 4.8700e+03, 2.3510e+03, 5.2900e-01],\n",
       "       [8.0000e+00, 4.3990e+03, 4.3100e+02, 5.4400e-01],\n",
       "       [1.0000e+01, 5.3420e+03, 1.3330e+03, 5.7100e-01],\n",
       "       [8.0000e+00, 5.3190e+03, 1.1868e+04, 4.5100e-01],\n",
       "       [8.0000e+00, 5.1260e+03, 2.1380e+03, 5.5300e-01],\n",
       "       [8.0000e+00, 4.4470e+03, 8.5770e+03, 5.2900e-01],\n",
       "       [7.0000e+00, 4.5120e+03, 8.5070e+03, 5.5200e-01],\n",
       "       [8.0000e+00, 4.3910e+03, 5.9390e+03, 5.3000e-01],\n",
       "       [7.5000e+00, 5.1260e+03, 1.4186e+04, 5.2500e-01],\n",
       "       [7.0000e+00, 4.8170e+03, 6.9300e+03, 5.7400e-01],\n",
       "       [7.0000e+00, 4.2070e+03, 6.5800e+03, 5.4500e-01],\n",
       "       [7.0000e+00, 4.3320e+03, 8.1590e+03, 6.0800e-01],\n",
       "       [7.0000e+00, 4.3180e+03, 1.0340e+04, 5.8600e-01],\n",
       "       [7.0000e+00, 4.2060e+03, 8.5080e+03, 5.7200e-01],\n",
       "       [7.0000e+00, 3.7180e+03, 4.7250e+03, 5.4000e-01],\n",
       "       [7.0000e+00, 4.7160e+03, 5.9150e+03, 7.2400e-01],\n",
       "       [8.5000e+00, 4.3410e+03, 6.0100e+03, 6.7700e-01],\n",
       "       [7.0000e+00, 4.5930e+03, 7.8340e+03, 6.6300e-01],\n",
       "       [8.0000e+00, 4.9830e+03, 6.0200e+02, 6.0200e-01],\n",
       "       [9.0000e+00, 4.8970e+03, 2.4490e+03, 5.1100e-01],\n",
       "       [9.0000e+00, 4.2580e+03, 4.6860e+03, 5.1700e-01],\n",
       "       [8.5000e+00, 4.5740e+03, 2.6190e+03, 5.5100e-01],\n",
       "       [9.0000e+00, 3.7210e+03, 4.7460e+03, 5.4400e-01],\n",
       "       [8.0000e+00, 3.4480e+03, 5.3990e+03, 5.4800e-01],\n",
       "       [7.5000e+00, 3.8460e+03, 9.0610e+03, 5.7900e-01],\n",
       "       [8.0000e+00, 4.1880e+03, 5.9750e+03, 5.6300e-01],\n",
       "       [9.0000e+00, 3.6010e+03, 4.6500e+03, 4.9300e-01],\n",
       "       [7.0000e+00, 3.6400e+03, 6.9050e+03, 5.1800e-01],\n",
       "       [7.0000e+00, 3.3330e+03, 6.5940e+03, 5.1300e-01],\n",
       "       [8.0000e+00, 3.0630e+03, 6.5240e+03, 5.7800e-01],\n",
       "       [7.5000e+00, 3.3570e+03, 4.1210e+03, 5.4700e-01],\n",
       "       [8.0000e+00, 3.5280e+03, 3.4950e+03, 4.8700e-01],\n",
       "       [6.5800e+00, 3.8020e+03, 7.8340e+03, 6.2900e-01],\n",
       "       [5.0000e+00, 4.0450e+03, 1.7782e+04, 5.6600e-01],\n",
       "       [7.0000e+00, 3.8970e+03, 6.3850e+03, 5.8600e-01],\n",
       "       [8.5000e+00, 3.6350e+03, 3.2740e+03, 6.6300e-01],\n",
       "       [7.0000e+00, 4.3450e+03, 3.9050e+03, 6.7200e-01],\n",
       "       [7.0000e+00, 4.4490e+03, 4.6390e+03, 6.2600e-01],\n",
       "       [7.0000e+00, 3.6560e+03, 3.9850e+03, 5.6300e-01],\n",
       "       [7.0000e+00, 4.3000e+03, 3.6350e+03, 6.0300e-01],\n",
       "       [7.0000e+00, 3.7450e+03, 2.6110e+03, 5.0800e-01],\n",
       "       [6.0000e+00, 5.2150e+03, 2.3020e+03, 6.7200e-01],\n",
       "       [9.0000e+00, 4.4760e+03, 3.9420e+03, 5.7100e-01],\n",
       "       [7.0000e+00, 4.2960e+03, 4.0830e+03, 6.2300e-01],\n",
       "       [7.0000e+00, 5.0020e+03, 9.7940e+03, 5.9300e-01]])"
      ]
     },
     "execution_count": 3,
     "metadata": {},
     "output_type": "execute_result"
    }
   ],
   "source": [
    "dataset = pd.read_csv('petrol_consumption.csv')\n",
    "X = dataset.iloc[:, 0:4].values\n",
    "X"
   ]
  },
  {
   "cell_type": "code",
   "execution_count": 4,
   "id": "0cc3f281",
   "metadata": {},
   "outputs": [
    {
     "data": {
      "text/plain": [
       "array([541, 524, 561, 414, 410, 457, 344, 467, 464, 498, 580, 471, 525,\n",
       "       508, 566, 635, 603, 714, 865, 640, 649, 540, 464, 547, 460, 566,\n",
       "       577, 631, 574, 534, 571, 554, 577, 628, 487, 644, 640, 704, 648,\n",
       "       968, 587, 699, 632, 591, 782, 510, 610, 524], dtype=int64)"
      ]
     },
     "execution_count": 4,
     "metadata": {},
     "output_type": "execute_result"
    }
   ],
   "source": [
    "y = dataset.iloc[:, 4].values\n",
    "y"
   ]
  },
  {
   "cell_type": "code",
   "execution_count": 5,
   "id": "e7959d75",
   "metadata": {},
   "outputs": [
    {
     "name": "stdout",
     "output_type": "stream",
     "text": [
      "(38, 4)\n",
      "(10, 4)\n"
     ]
    }
   ],
   "source": [
    "from sklearn.model_selection import train_test_split\n",
    "X_train, X_test, y_train, y_test = train_test_split(X, y, test_size=0.2, random_state=0)\n",
    "print (X_train.shape)\n",
    "print ( X_test.shape)"
   ]
  },
  {
   "cell_type": "code",
   "execution_count": null,
   "id": "e41cd3d3",
   "metadata": {},
   "outputs": [
    {
     "name": "stdout",
     "output_type": "stream",
     "text": [
      "[[ 1.35447518 -1.33452296 -0.31161731 -1.48308699]\n",
      " [ 0.36314126  0.15174391 -1.44873146 -0.57895909]\n",
      " [ 0.36314126 -1.6194839  -0.10974518 -0.5080471 ]\n",
      " [-0.62819265 -1.26188585  0.29615525 -1.03988704]\n",
      " [ 0.36314126 -2.33654247  0.19346729  0.02379284]\n",
      " [-0.62819265 -0.78322597  0.1560037   0.16561682]\n",
      " [ 0.36314126 -1.47048471 -0.62291545 -1.58945498]\n",
      " [-0.62819265  0.2448684  -0.31458205  0.87473675]\n",
      " [ 0.36314126  1.50577399 -0.98865707 -0.41940711]\n",
      " [ 0.36314126  0.13684399  0.0357968  -0.82715107]]\n"
     ]
    }
   ],
   "source": [
    "from sklearn.preprocessing import StandardScaler\n",
    "sc = StandardScaler()\n",
    "X_train = sc.fit_transform(X_train)\n",
    "X_test = sc.transform(X_test)\n",
    "print (X_test)"
   ]
  },
  {
   "cell_type": "code",
   "execution_count": 7,
   "id": "805b1e9b",
   "metadata": {},
   "outputs": [],
   "source": [
    "from sklearn.ensemble import RandomForestRegressor\n",
    "regressor = RandomForestRegressor(n_estimators=20, random_state=0)\n",
    "regressor.fit(X_train, y_train)\n",
    "y_pred = regressor.predict(X_test)\n",
    "\n"
   ]
  },
  {
   "cell_type": "code",
   "execution_count": 8,
   "id": "3518ec5b",
   "metadata": {},
   "outputs": [
    {
     "name": "stdout",
     "output_type": "stream",
     "text": [
      "Mean Absolute Error: 51.76500000000001\n",
      "Mean Squared Error: 4216.166749999999\n",
      "Root Mean Squared Error: 64.93201637097064\n"
     ]
    }
   ],
   "source": [
    "from sklearn import metrics\n",
    "print('Mean Absolute Error:', metrics.mean_absolute_error(y_test, y_pred))\n",
    "print('Mean Squared Error:', metrics.mean_squared_error(y_test, y_pred))\n",
    "print('Root Mean Squared Error:', np.sqrt(metrics.mean_squared_error(y_test, y_pred)))\n"
   ]
  }
 ],
 "metadata": {
  "kernelspec": {
   "display_name": "Python 3",
   "language": "python",
   "name": "python3"
  },
  "language_info": {
   "codemirror_mode": {
    "name": "ipython",
    "version": 3
   },
   "file_extension": ".py",
   "mimetype": "text/x-python",
   "name": "python",
   "nbconvert_exporter": "python",
   "pygments_lexer": "ipython3",
   "version": "3.12.1"
  }
 },
 "nbformat": 4,
 "nbformat_minor": 5
}
