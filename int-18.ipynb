{
 "cells": [
  {
   "cell_type": "code",
   "execution_count": 5,
   "id": "81f1b99b",
   "metadata": {},
   "outputs": [
    {
     "name": "stdout",
     "output_type": "stream",
     "text": [
      "Requirement already satisfied: openpyxl in c:\\users\\windows-11\\appdata\\local\\programs\\python\\python312\\lib\\site-packages (3.1.5)\n",
      "Requirement already satisfied: et-xmlfile in c:\\users\\windows-11\\appdata\\local\\programs\\python\\python312\\lib\\site-packages (from openpyxl) (2.0.0)\n",
      "Note: you may need to restart the kernel to use updated packages.\n"
     ]
    },
    {
     "name": "stderr",
     "output_type": "stream",
     "text": [
      "\n",
      "[notice] A new release of pip is available: 23.2.1 -> 25.1.1\n",
      "[notice] To update, run: python.exe -m pip install --upgrade pip\n"
     ]
    }
   ],
   "source": [
    "pip install openpyxl"
   ]
  },
  {
   "cell_type": "code",
   "execution_count": 6,
   "id": "faa69055",
   "metadata": {},
   "outputs": [
    {
     "name": "stdout",
     "output_type": "stream",
     "text": [
      "c:\\Users\\WINDOWS-11\\OneDrive\\Documents\\Internship\n"
     ]
    }
   ],
   "source": [
    "import os \n",
    "import numpy as np \n",
    "import pandas as pd\n",
    "print (os.getcwd()  )"
   ]
  },
  {
   "cell_type": "code",
   "execution_count": 7,
   "id": "0f72e5bb",
   "metadata": {},
   "outputs": [
    {
     "name": "stdout",
     "output_type": "stream",
     "text": [
      "(53, 5)\n",
      "(53, 4)\n",
      "(53,)\n"
     ]
    }
   ],
   "source": [
    "dataset = pd.read_excel('Health_Score.xlsx')\n",
    "x = dataset.iloc[:,1:].values\n",
    "y = dataset.iloc[:,0].values\n",
    "print (dataset.shape)\n",
    "print (x.shape)\n",
    "print (y.shape)\n"
   ]
  },
  {
   "cell_type": "code",
   "execution_count": 8,
   "id": "c6c2b195",
   "metadata": {},
   "outputs": [
    {
     "name": "stdout",
     "output_type": "stream",
     "text": [
      "(53, 4)\n",
      "(42, 4)\n",
      "(11, 4)\n",
      "(53,)\n",
      "(42,)\n",
      "(11,)\n"
     ]
    }
   ],
   "source": [
    "from sklearn.model_selection import train_test_split\n",
    "x_train, x_test, y_train, y_test = train_test_split(x, y, test_size=0.2, random_state=1)\n",
    "print (x.shape)\n",
    "print (x_train.shape)\n",
    "print (x_test.shape)\n",
    "print (y.shape)\n",
    "print (y_train.shape)\n",
    "print (y_test.shape)\n"
   ]
  },
  {
   "cell_type": "code",
   "execution_count": 9,
   "id": "d429bdfb",
   "metadata": {},
   "outputs": [
    {
     "name": "stdout",
     "output_type": "stream",
     "text": [
      "LinearRegression()\n"
     ]
    }
   ],
   "source": [
    "from sklearn.linear_model import LinearRegression\n",
    "regressor =  LinearRegression()\n",
    "regressor.fit (x_train, y_train)\n",
    "print (regressor)"
   ]
  },
  {
   "cell_type": "code",
   "execution_count": 10,
   "id": "190760cc",
   "metadata": {},
   "outputs": [
    {
     "name": "stdout",
     "output_type": "stream",
     "text": [
      "[ 8.65654845 10.57049948  9.12926103  9.56518501  9.15397193 10.19763099\n",
      "  9.00579912 10.3654805   7.50633246  9.20384247  6.60848831]\n"
     ]
    }
   ],
   "source": [
    "y_pred = regressor.predict (x_test )\n",
    "print (y_pred)"
   ]
  },
  {
   "cell_type": "code",
   "execution_count": 11,
   "id": "cada4602",
   "metadata": {},
   "outputs": [
    {
     "name": "stdout",
     "output_type": "stream",
     "text": [
      "[ 5.          7.5        10.          9.80000019  9.80000019  9.\n",
      " 10.10000038  9.39999962 10.10000038  9.69999981  8.5       ]\n"
     ]
    }
   ],
   "source": [
    "print (y_test)"
   ]
  },
  {
   "cell_type": "code",
   "execution_count": 12,
   "id": "a46dc8ef",
   "metadata": {},
   "outputs": [
    {
     "name": "stdout",
     "output_type": "stream",
     "text": [
      "    Birth Rate  Prediction  Difference\n",
      "0          5.0    8.656548   -3.656548\n",
      "1          7.5   10.570499   -3.070499\n",
      "2         10.0    9.129261    0.870739\n",
      "3          9.8    9.565185    0.234815\n",
      "4          9.8    9.153972    0.646028\n",
      "5          9.0   10.197631   -1.197631\n",
      "6         10.1    9.005799    1.094201\n",
      "7          9.4   10.365480   -0.965481\n",
      "8         10.1    7.506332    2.593668\n",
      "9          9.7    9.203842    0.496157\n",
      "10         8.5    6.608488    1.891512\n"
     ]
    }
   ],
   "source": [
    "df_y_test= pd.DataFrame(y_test, columns = ['Birth Rate'])\n",
    "df_y_test_pred =  pd.DataFrame(y_pred, columns = ['Prediction'])\n",
    "df_diff =df_y_test- df_y_test_pred\n",
    "y_test_pred = pd.concat ([df_y_test, df_y_test_pred ],axis =1)\n",
    "y_test_pred['Difference'] =df_y_test ['Birth Rate']- df_y_test_pred['Prediction']\n",
    "print (y_test_pred)"
   ]
  },
  {
   "cell_type": "code",
   "execution_count": 13,
   "id": "d7eb2c0d",
   "metadata": {},
   "outputs": [
    {
     "name": "stdout",
     "output_type": "stream",
     "text": [
      "-0.5993833735307739\n"
     ]
    }
   ],
   "source": [
    "from sklearn.metrics import r2_score\n",
    "accuracy = r2_score(y_test,y_pred)\n",
    "print (accuracy)"
   ]
  },
  {
   "cell_type": "code",
   "execution_count": 14,
   "id": "ab985513",
   "metadata": {},
   "outputs": [
    {
     "name": "stdout",
     "output_type": "stream",
     "text": [
      "[ 9.16830283  9.06981045 10.57049948 10.48822982  8.67884787  8.08173424\n",
      "  8.35938875  9.24621142  9.00537556 10.10924015  6.60848831  8.82039276\n",
      "  9.4246574   8.32121054  9.71259243  7.66810144  8.77961834  8.51753078\n",
      "  8.92410509  9.20384247 10.56963221 10.10241672 10.13597454  8.75874067\n",
      "  8.84854448  9.62508144  9.42764107  8.83119857 10.3674476   9.07005095\n",
      "  8.65654845  9.15397193  9.56518501  9.69600677  9.00579912  9.82073492\n",
      "  8.2822002   9.85340539  8.36367688 10.3654805   9.32686798  9.60932803\n",
      "  9.63004436  9.60756789 10.06314535  7.50633246 10.19763099  9.77649655\n",
      " 11.13822764 10.49516297 10.83918806  9.12926103  9.68587003]\n"
     ]
    }
   ],
   "source": [
    "y_pred = regressor.predict (x )\n",
    "print (y_pred)"
   ]
  },
  {
   "cell_type": "code",
   "execution_count": 15,
   "id": "3c3180d5",
   "metadata": {},
   "outputs": [
    {
     "name": "stdout",
     "output_type": "stream",
     "text": [
      "[ 8.          9.30000019  7.5         8.89999962 10.19999981  8.30000019\n",
      "  8.80000019  8.80000019 10.69999981 11.69999981  8.5         8.30000019\n",
      "  8.19999981  7.9000001  10.30000019  7.4000001   9.60000038  9.30000019\n",
      " 10.60000038  9.69999981 11.60000038  8.10000038  9.80000019  7.4000001\n",
      "  9.39999962 11.19999981  9.10000038 10.5        11.89999962  8.39999962\n",
      "  5.          9.80000019  9.80000019 10.80000019 10.10000038 10.89999962\n",
      "  9.19999981  8.30000019  7.30000019  9.39999962  9.39999962  9.80000019\n",
      "  3.5999999   8.39999962 10.80000019 10.10000038  9.         10.\n",
      " 11.30000019 11.30000019 12.80000019 10.          6.69999981]\n"
     ]
    }
   ],
   "source": [
    "print (y)"
   ]
  },
  {
   "cell_type": "code",
   "execution_count": 16,
   "id": "e16f4713",
   "metadata": {},
   "outputs": [
    {
     "data": {
      "text/html": [
       "<div>\n",
       "<style scoped>\n",
       "    .dataframe tbody tr th:only-of-type {\n",
       "        vertical-align: middle;\n",
       "    }\n",
       "\n",
       "    .dataframe tbody tr th {\n",
       "        vertical-align: top;\n",
       "    }\n",
       "\n",
       "    .dataframe thead th {\n",
       "        text-align: right;\n",
       "    }\n",
       "</style>\n",
       "<table border=\"1\" class=\"dataframe\">\n",
       "  <thead>\n",
       "    <tr style=\"text-align: right;\">\n",
       "      <th></th>\n",
       "      <th>Birth Rate</th>\n",
       "      <th>No of Hospitlas</th>\n",
       "      <th>No of Doctors</th>\n",
       "      <th>Annual Income</th>\n",
       "      <th>Population Density</th>\n",
       "      <th>Prediction</th>\n",
       "      <th>Difference</th>\n",
       "    </tr>\n",
       "  </thead>\n",
       "  <tbody>\n",
       "    <tr>\n",
       "      <th>0</th>\n",
       "      <td>8.0</td>\n",
       "      <td>78</td>\n",
       "      <td>284</td>\n",
       "      <td>9.1</td>\n",
       "      <td>109</td>\n",
       "      <td>9.168303</td>\n",
       "      <td>-1.168303</td>\n",
       "    </tr>\n",
       "    <tr>\n",
       "      <th>1</th>\n",
       "      <td>9.3</td>\n",
       "      <td>68</td>\n",
       "      <td>433</td>\n",
       "      <td>8.7</td>\n",
       "      <td>144</td>\n",
       "      <td>9.069810</td>\n",
       "      <td>0.230190</td>\n",
       "    </tr>\n",
       "    <tr>\n",
       "      <th>2</th>\n",
       "      <td>7.5</td>\n",
       "      <td>70</td>\n",
       "      <td>739</td>\n",
       "      <td>7.2</td>\n",
       "      <td>113</td>\n",
       "      <td>10.570499</td>\n",
       "      <td>-3.070499</td>\n",
       "    </tr>\n",
       "    <tr>\n",
       "      <th>3</th>\n",
       "      <td>8.9</td>\n",
       "      <td>96</td>\n",
       "      <td>1792</td>\n",
       "      <td>8.9</td>\n",
       "      <td>97</td>\n",
       "      <td>10.488230</td>\n",
       "      <td>-1.588230</td>\n",
       "    </tr>\n",
       "    <tr>\n",
       "      <th>4</th>\n",
       "      <td>10.2</td>\n",
       "      <td>74</td>\n",
       "      <td>477</td>\n",
       "      <td>8.3</td>\n",
       "      <td>206</td>\n",
       "      <td>8.678848</td>\n",
       "      <td>1.521152</td>\n",
       "    </tr>\n",
       "  </tbody>\n",
       "</table>\n",
       "</div>"
      ],
      "text/plain": [
       "   Birth Rate  No of Hospitlas  No of Doctors  Annual Income  \\\n",
       "0         8.0               78            284            9.1   \n",
       "1         9.3               68            433            8.7   \n",
       "2         7.5               70            739            7.2   \n",
       "3         8.9               96           1792            8.9   \n",
       "4        10.2               74            477            8.3   \n",
       "\n",
       "   Population Density  Prediction  Difference  \n",
       "0                 109    9.168303   -1.168303  \n",
       "1                 144    9.069810    0.230190  \n",
       "2                 113   10.570499   -3.070499  \n",
       "3                  97   10.488230   -1.588230  \n",
       "4                 206    8.678848    1.521152  "
      ]
     },
     "metadata": {},
     "output_type": "display_data"
    }
   ],
   "source": [
    "y_pred = pd.DataFrame(y_pred,columns= ['Prediction'])\n",
    "final = pd.concat([dataset,y_pred], axis =1)\n",
    "final['Difference'] =final['Birth Rate']- final['Prediction']\n",
    "display(final.head())"
   ]
  },
  {
   "cell_type": "code",
   "execution_count": 17,
   "id": "b367221f",
   "metadata": {},
   "outputs": [
    {
     "name": "stdout",
     "output_type": "stream",
     "text": [
      "0.08950585813004241\n"
     ]
    }
   ],
   "source": [
    "from sklearn.metrics import r2_score\n",
    "accuracy = r2_score(y,y_pred)\n",
    "print (accuracy)"
   ]
  },
  {
   "cell_type": "code",
   "execution_count": 18,
   "id": "7bb38274",
   "metadata": {},
   "outputs": [
    {
     "name": "stdout",
     "output_type": "stream",
     "text": [
      "[ 0.00501226  0.00064205 -0.62914983 -0.01130558]\n",
      "15.552576766444297\n"
     ]
    }
   ],
   "source": [
    "print (regressor.coef_)\n",
    "print (regressor.intercept_)"
   ]
  },
  {
   "cell_type": "code",
   "execution_count": 19,
   "id": "716a1f3a",
   "metadata": {},
   "outputs": [
    {
     "name": "stdout",
     "output_type": "stream",
     "text": [
      "Requirement already satisfied: statsmodels in c:\\users\\windows-11\\appdata\\local\\programs\\python\\python312\\lib\\site-packages (0.14.4)\n",
      "Requirement already satisfied: numpy<3,>=1.22.3 in c:\\users\\windows-11\\appdata\\local\\programs\\python\\python312\\lib\\site-packages (from statsmodels) (1.26.4)\n",
      "Requirement already satisfied: scipy!=1.9.2,>=1.8 in c:\\users\\windows-11\\appdata\\local\\programs\\python\\python312\\lib\\site-packages (from statsmodels) (1.15.3)\n",
      "Requirement already satisfied: pandas!=2.1.0,>=1.4 in c:\\users\\windows-11\\appdata\\local\\programs\\python\\python312\\lib\\site-packages (from statsmodels) (2.2.1)\n",
      "Requirement already satisfied: patsy>=0.5.6 in c:\\users\\windows-11\\appdata\\local\\programs\\python\\python312\\lib\\site-packages (from statsmodels) (1.0.1)\n",
      "Requirement already satisfied: packaging>=21.3 in c:\\users\\windows-11\\appdata\\roaming\\python\\python312\\site-packages (from statsmodels) (25.0)\n",
      "Requirement already satisfied: python-dateutil>=2.8.2 in c:\\users\\windows-11\\appdata\\local\\programs\\python\\python312\\lib\\site-packages (from pandas!=2.1.0,>=1.4->statsmodels) (2.9.0.post0)\n",
      "Requirement already satisfied: pytz>=2020.1 in c:\\users\\windows-11\\appdata\\local\\programs\\python\\python312\\lib\\site-packages (from pandas!=2.1.0,>=1.4->statsmodels) (2024.1)\n",
      "Requirement already satisfied: tzdata>=2022.7 in c:\\users\\windows-11\\appdata\\local\\programs\\python\\python312\\lib\\site-packages (from pandas!=2.1.0,>=1.4->statsmodels) (2024.1)\n",
      "Requirement already satisfied: six>=1.5 in c:\\users\\windows-11\\appdata\\local\\programs\\python\\python312\\lib\\site-packages (from python-dateutil>=2.8.2->pandas!=2.1.0,>=1.4->statsmodels) (1.16.0)\n",
      "Note: you may need to restart the kernel to use updated packages.\n"
     ]
    },
    {
     "name": "stderr",
     "output_type": "stream",
     "text": [
      "\n",
      "[notice] A new release of pip is available: 23.2.1 -> 25.1.1\n",
      "[notice] To update, run: python.exe -m pip install --upgrade pip\n"
     ]
    }
   ],
   "source": [
    "pip install statsmodels"
   ]
  },
  {
   "cell_type": "code",
   "execution_count": 20,
   "id": "538d8998",
   "metadata": {},
   "outputs": [
    {
     "name": "stdout",
     "output_type": "stream",
     "text": [
      "                                 OLS Regression Results                                \n",
      "=======================================================================================\n",
      "Dep. Variable:                      y   R-squared (uncentered):                   0.954\n",
      "Model:                            OLS   Adj. R-squared (uncentered):              0.950\n",
      "Method:                 Least Squares   F-statistic:                              254.2\n",
      "Date:                Fri, 20 Jun 2025   Prob (F-statistic):                    4.15e-32\n",
      "Time:                        18:19:21   Log-Likelihood:                         -112.63\n",
      "No. Observations:                  53   AIC:                                      233.3\n",
      "Df Residuals:                      49   BIC:                                      241.1\n",
      "Df Model:                           4                                                  \n",
      "Covariance Type:            nonrobust                                                  \n",
      "==============================================================================\n",
      "                 coef    std err          t      P>|t|      [0.025      0.975]\n",
      "------------------------------------------------------------------------------\n",
      "x1             0.0017      0.009      0.184      0.855      -0.017       0.020\n",
      "x2             0.0014      0.001      1.486      0.144      -0.000       0.003\n",
      "x3             0.9456      0.137      6.892      0.000       0.670       1.221\n",
      "x4            -0.0070      0.006     -1.091      0.281      -0.020       0.006\n",
      "==============================================================================\n",
      "Omnibus:                        1.186   Durbin-Watson:                   1.675\n",
      "Prob(Omnibus):                  0.553   Jarque-Bera (JB):                0.537\n",
      "Skew:                           0.185   Prob(JB):                        0.765\n",
      "Kurtosis:                       3.325   Cond. No.                         328.\n",
      "==============================================================================\n",
      "\n",
      "Notes:\n",
      "[1] R² is computed without centering (uncentered) since the model does not contain a constant.\n",
      "[2] Standard Errors assume that the covariance matrix of the errors is correctly specified.\n"
     ]
    }
   ],
   "source": [
    "import statsmodels.api as sm\n",
    "reg_ols = sm.OLS (endog = y, exog = x)\n",
    "reg_ols = reg_ols.fit()\n",
    "print (reg_ols.summary())\n"
   ]
  }
 ],
 "metadata": {
  "kernelspec": {
   "display_name": "Python 3",
   "language": "python",
   "name": "python3"
  },
  "language_info": {
   "codemirror_mode": {
    "name": "ipython",
    "version": 3
   },
   "file_extension": ".py",
   "mimetype": "text/x-python",
   "name": "python",
   "nbconvert_exporter": "python",
   "pygments_lexer": "ipython3",
   "version": "3.12.1"
  }
 },
 "nbformat": 4,
 "nbformat_minor": 5
}
