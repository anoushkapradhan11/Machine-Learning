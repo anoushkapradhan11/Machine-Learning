{
 "cells": [
  {
   "cell_type": "code",
   "execution_count": 7,
   "id": "01d12f7f",
   "metadata": {},
   "outputs": [
    {
     "name": "stdout",
     "output_type": "stream",
     "text": [
      "1\n",
      "2\n"
     ]
    }
   ],
   "source": [
    "def count_numbers(num):\n",
    "    count=0\n",
    "    for n in num:\n",
    "        if n==4 :\n",
    "            count=count+1\n",
    "    return count\n",
    "print(count_numbers([1,2,3,4]))\n",
    "print(count_numbers([2,4,3,4,5]))"
   ]
  },
  {
   "cell_type": "code",
   "execution_count": 9,
   "id": "64da650b",
   "metadata": {},
   "outputs": [
    {
     "name": "stdout",
     "output_type": "stream",
     "text": [
      "False\n"
     ]
    }
   ],
   "source": [
    "def vowels (ch):\n",
    "    v='aeiou'\n",
    "    return ch in v\n",
    "print(vowels('b'))"
   ]
  },
  {
   "cell_type": "code",
   "execution_count": 10,
   "id": "59907294",
   "metadata": {},
   "outputs": [
    {
     "name": "stdout",
     "output_type": "stream",
     "text": [
      "True\n"
     ]
    }
   ],
   "source": [
    "def specified_values(value,n):\n",
    "    return n in value\n",
    "print(specified_values([1,2,3,4],4))\n"
   ]
  },
  {
   "cell_type": "code",
   "execution_count": 1,
   "id": "da83627c",
   "metadata": {},
   "outputs": [
    {
     "name": "stdout",
     "output_type": "stream",
     "text": [
      "2.8284271247461903\n"
     ]
    }
   ],
   "source": [
    "def distance(x1,y1,x2,y2):\n",
    "    s=pow((x2-x1),2)+pow((y2-y1),2)\n",
    "    d=pow(s,0.5)\n",
    "    return d\n",
    "print(distance(2,3,4,5))"
   ]
  },
  {
   "cell_type": "code",
   "execution_count": 2,
   "id": "e62d22f3",
   "metadata": {},
   "outputs": [
    {
     "name": "stdout",
     "output_type": "stream",
     "text": [
      "True\n"
     ]
    }
   ],
   "source": [
    "def fun1(x,y):\n",
    "    if (x+y)==5 or (x-y)==5 or x==y:\n",
    "        return True\n",
    "    else:\n",
    "        return False\n",
    "print(fun1(4,1))\n"
   ]
  },
  {
   "cell_type": "code",
   "execution_count": 4,
   "id": "0b6edbc2",
   "metadata": {},
   "outputs": [
    {
     "name": "stdout",
     "output_type": "stream",
     "text": [
      "<function sum at 0x0000023861B939C0>\n",
      "<function sum at 0x0000023861B939C0>\n"
     ]
    }
   ],
   "source": [
    "def sum(x,y):\n",
    "    s=x+y\n",
    "    if s in range(15,20):\n",
    "        return 20\n",
    "    else:\n",
    "        return sum\n",
    "print(sum(4,5))\n",
    "print(sum(11,12))"
   ]
  },
  {
   "cell_type": "code",
   "execution_count": 5,
   "id": "c7b7b336",
   "metadata": {},
   "outputs": [
    {
     "name": "stdout",
     "output_type": "stream",
     "text": [
      "24\n",
      "0\n"
     ]
    }
   ],
   "source": [
    "def add(x,y,z):\n",
    "    if x==y or y==z or x==z:\n",
    "        return 0\n",
    "    else:\n",
    "        return (x+y+z)\n",
    "print(add(7,8,9))\n",
    "print(add(3,3,4))"
   ]
  },
  {
   "cell_type": "code",
   "execution_count": 6,
   "id": "32aa0c6e",
   "metadata": {},
   "outputs": [
    {
     "name": "stdout",
     "output_type": "stream",
     "text": [
      "27.44\n"
     ]
    }
   ],
   "source": [
    "def area(b,h):\n",
    "    return(0.5*b*h)\n",
    "print(area(9.8,5.6))"
   ]
  },
  {
   "cell_type": "code",
   "execution_count": 7,
   "id": "b64c27a1",
   "metadata": {},
   "outputs": [
    {
     "name": "stdout",
     "output_type": "stream",
     "text": [
      "2345\n"
     ]
    }
   ],
   "source": [
    "def concatenate(list):\n",
    "    result=''\n",
    "    for e in list:\n",
    "        result+=str(e)\n",
    "    return result\n",
    "print(concatenate([2,3,4,5]))"
   ]
  }
 ],
 "metadata": {
  "kernelspec": {
   "display_name": "Python 3",
   "language": "python",
   "name": "python3"
  },
  "language_info": {
   "codemirror_mode": {
    "name": "ipython",
    "version": 3
   },
   "file_extension": ".py",
   "mimetype": "text/x-python",
   "name": "python",
   "nbconvert_exporter": "python",
   "pygments_lexer": "ipython3",
   "version": "3.12.1"
  }
 },
 "nbformat": 4,
 "nbformat_minor": 5
}
