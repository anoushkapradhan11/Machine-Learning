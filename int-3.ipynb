{
 "cells": [
  {
   "cell_type": "code",
   "execution_count": 5,
   "id": "9082bb68",
   "metadata": {},
   "outputs": [
    {
     "name": "stdout",
     "output_type": "stream",
     "text": [
      "6\n"
     ]
    }
   ],
   "source": [
    "def sumList(items):\n",
    "    sum=0\n",
    "    for i in items:\n",
    "        sum+=i\n",
    "    return sum\n",
    "print(sumList([1,2,3]))"
   ]
  },
  {
   "cell_type": "code",
   "execution_count": 1,
   "id": "ecba30a0",
   "metadata": {},
   "outputs": [
    {
     "name": "stdout",
     "output_type": "stream",
     "text": [
      "4\n"
     ]
    }
   ],
   "source": [
    "def maxList(list1):\n",
    "    max=list1[0]\n",
    "    for a in list1:\n",
    "        if a > max:\n",
    "            max=a\n",
    "    return max\n",
    "print(maxList([1,2,3,4]))"
   ]
  },
  {
   "cell_type": "code",
   "execution_count": 4,
   "id": "1c5a899c",
   "metadata": {},
   "outputs": [
    {
     "name": "stdout",
     "output_type": "stream",
     "text": [
      "3\n"
     ]
    }
   ],
   "source": [
    "def minList(items):\n",
    "    min=items[0]\n",
    "    for b in items:\n",
    "        if b < min:\n",
    "            min=b\n",
    "    return min\n",
    "print(minList([8,9,4,3]))"
   ]
  },
  {
   "cell_type": "code",
   "execution_count": null,
   "id": "629fec26",
   "metadata": {},
   "outputs": [],
   "source": []
  }
 ],
 "metadata": {
  "kernelspec": {
   "display_name": "Python 3",
   "language": "python",
   "name": "python3"
  },
  "language_info": {
   "codemirror_mode": {
    "name": "ipython",
    "version": 3
   },
   "file_extension": ".py",
   "mimetype": "text/x-python",
   "name": "python",
   "nbconvert_exporter": "python",
   "pygments_lexer": "ipython3",
   "version": "3.12.1"
  }
 },
 "nbformat": 4,
 "nbformat_minor": 5
}
