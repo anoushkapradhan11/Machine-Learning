{
 "cells": [
  {
   "cell_type": "code",
   "execution_count": 1,
   "id": "a1506dfc",
   "metadata": {},
   "outputs": [],
   "source": [
    "import pandas as pd\n",
    "import numpy as np\n",
    "import os\n"
   ]
  },
  {
   "cell_type": "code",
   "execution_count": 2,
   "id": "5f8e986b",
   "metadata": {},
   "outputs": [
    {
     "name": "stdout",
     "output_type": "stream",
     "text": [
      "c:\\Users\\WINDOWS-11\\OneDrive\\Documents\\Internship\\Intern-2\n"
     ]
    }
   ],
   "source": [
    "print(os.getcwd())"
   ]
  },
  {
   "cell_type": "code",
   "execution_count": 3,
   "id": "3dc607c4",
   "metadata": {},
   "outputs": [
    {
     "data": {
      "text/html": [
       "<div>\n",
       "<style scoped>\n",
       "    .dataframe tbody tr th:only-of-type {\n",
       "        vertical-align: middle;\n",
       "    }\n",
       "\n",
       "    .dataframe tbody tr th {\n",
       "        vertical-align: top;\n",
       "    }\n",
       "\n",
       "    .dataframe thead th {\n",
       "        text-align: right;\n",
       "    }\n",
       "</style>\n",
       "<table border=\"1\" class=\"dataframe\">\n",
       "  <thead>\n",
       "    <tr style=\"text-align: right;\">\n",
       "      <th></th>\n",
       "      <th>Name</th>\n",
       "      <th>Score</th>\n",
       "      <th>Age</th>\n",
       "      <th>Ethinicity</th>\n",
       "      <th>Subject</th>\n",
       "      <th>Sex</th>\n",
       "      <th>ID</th>\n",
       "    </tr>\n",
       "  </thead>\n",
       "  <tbody>\n",
       "    <tr>\n",
       "      <th>0</th>\n",
       "      <td>AI-KYUNG CHUNG</td>\n",
       "      <td>84.0</td>\n",
       "      <td>18</td>\n",
       "      <td>White American</td>\n",
       "      <td>Physics</td>\n",
       "      <td>M</td>\n",
       "      <td>1</td>\n",
       "    </tr>\n",
       "    <tr>\n",
       "      <th>1</th>\n",
       "      <td>ALAN HARVEY</td>\n",
       "      <td>81.0</td>\n",
       "      <td>19</td>\n",
       "      <td>European American</td>\n",
       "      <td>Physics</td>\n",
       "      <td>M</td>\n",
       "      <td>2</td>\n",
       "    </tr>\n",
       "    <tr>\n",
       "      <th>2</th>\n",
       "      <td>ALAN REYNAUD</td>\n",
       "      <td>41.0</td>\n",
       "      <td>19</td>\n",
       "      <td>European American</td>\n",
       "      <td>Physics</td>\n",
       "      <td>M</td>\n",
       "      <td>3</td>\n",
       "    </tr>\n",
       "    <tr>\n",
       "      <th>3</th>\n",
       "      <td>ALBERT CENDANA</td>\n",
       "      <td>78.0</td>\n",
       "      <td>18</td>\n",
       "      <td>White American</td>\n",
       "      <td>Physics</td>\n",
       "      <td>M</td>\n",
       "      <td>4</td>\n",
       "    </tr>\n",
       "    <tr>\n",
       "      <th>4</th>\n",
       "      <td>ALBERT HOLT JR</td>\n",
       "      <td>78.0</td>\n",
       "      <td>18</td>\n",
       "      <td>White American</td>\n",
       "      <td>Physics</td>\n",
       "      <td>F</td>\n",
       "      <td>5</td>\n",
       "    </tr>\n",
       "  </tbody>\n",
       "</table>\n",
       "</div>"
      ],
      "text/plain": [
       "             Name  Score  Age         Ethinicity  Subject Sex  ID\n",
       "0  AI-KYUNG CHUNG   84.0   18     White American  Physics   M   1\n",
       "1     ALAN HARVEY   81.0   19  European American  Physics   M   2\n",
       "2    ALAN REYNAUD   41.0   19  European American  Physics   M   3\n",
       "3  ALBERT CENDANA   78.0   18     White American  Physics   M   4\n",
       "4  ALBERT HOLT JR   78.0   18     White American  Physics   F   5"
      ]
     },
     "execution_count": 3,
     "metadata": {},
     "output_type": "execute_result"
    }
   ],
   "source": [
    "math_data = pd.read_csv(\"MathScoreTerm1.csv\")\n",
    "math_data.head()\n",
    "\n",
    "\n",
    "ds_data = pd.read_csv(\"DSScoreTerm1.csv\")\n",
    "ds_data.head()\n",
    "\n",
    "\n",
    "physics_data = pd.read_csv(\"PhysicsScoreTerm1.csv\")\n",
    "physics_data.head()\n",
    "\n"
   ]
  },
  {
   "cell_type": "code",
   "execution_count": 4,
   "id": "d9297118",
   "metadata": {},
   "outputs": [
    {
     "name": "stdout",
     "output_type": "stream",
     "text": [
      "   Score  Age Subject Sex  ID\n",
      "0   88.0   18   Maths   M   1\n",
      "1   85.0   19   Maths   M   2\n",
      "2   45.0   19   Maths   M   3\n",
      "3   82.0   18   Maths   M   4\n",
      "4   82.0   18   Maths   F   5\n",
      "   Score  Age        Subject Sex  ID\n",
      "0   82.0   18  Data Structue   M   1\n",
      "1   79.0   19  Data Structue   M   2\n",
      "2   39.0   19  Data Structue   M   3\n",
      "3   76.0   18  Data Structue   M   4\n",
      "4   76.0   18  Data Structue   F   5\n",
      "   Score  Age  Subject Sex  ID\n",
      "0   84.0   18  Physics   M   1\n",
      "1   81.0   19  Physics   M   2\n",
      "2   41.0   19  Physics   M   3\n",
      "3   78.0   18  Physics   M   4\n",
      "4   78.0   18  Physics   F   5\n"
     ]
    }
   ],
   "source": [
    "math_data = math_data.drop(['Name','Ethinicity'], axis=1)\n",
    "print(math_data.head())\n",
    "\n",
    "\n",
    "ds_data = ds_data.drop(['Name','Ethinicity'], axis=1)\n",
    "print(ds_data.head())\n",
    "\n",
    "\n",
    "\n",
    "physics_data = physics_data.drop(['Name','Ethinicity'], axis=1)\n",
    "print(physics_data.head())\n"
   ]
  },
  {
   "cell_type": "code",
   "execution_count": 5,
   "id": "6ad31864",
   "metadata": {},
   "outputs": [
    {
     "name": "stdout",
     "output_type": "stream",
     "text": [
      "Score      3\n",
      "Age        0\n",
      "Subject    0\n",
      "Sex        0\n",
      "ID         0\n",
      "dtype: int64\n",
      "Score      0\n",
      "Age        0\n",
      "Subject    0\n",
      "Sex        0\n",
      "ID         0\n",
      "dtype: int64\n"
     ]
    }
   ],
   "source": [
    "print (math_data.isnull().sum())\n",
    "math_data['Score'] = math_data['Score'].fillna(0)\n",
    "print (math_data.isnull().sum())\n"
   ]
  },
  {
   "cell_type": "code",
   "execution_count": 6,
   "id": "e472ce2e",
   "metadata": {},
   "outputs": [
    {
     "name": "stdout",
     "output_type": "stream",
     "text": [
      "Score      8\n",
      "Age        0\n",
      "Subject    0\n",
      "Sex        0\n",
      "ID         0\n",
      "dtype: int64\n",
      "Score      6\n",
      "Age        0\n",
      "Subject    0\n",
      "Sex        0\n",
      "ID         0\n",
      "dtype: int64\n",
      "Score      0\n",
      "Age        0\n",
      "Subject    0\n",
      "Sex        0\n",
      "ID         0\n",
      "dtype: int64\n"
     ]
    }
   ],
   "source": [
    "print (ds_data.isnull().sum())\n",
    "ds_data['Score'] = ds_data['Score'].fillna(0)\n",
    "print (physics_data.isnull().sum())\n",
    "physics_data['Score'] = physics_data['Score'].fillna(0)\n",
    "print (physics_data.isnull().sum())"
   ]
  },
  {
   "cell_type": "code",
   "execution_count": 7,
   "id": "0b045fb1",
   "metadata": {},
   "outputs": [
    {
     "data": {
      "text/plain": [
       "[     Score  Age Subject Sex   ID\n",
       " 0     88.0   18   Maths   M    1\n",
       " 1     85.0   19   Maths   M    2\n",
       " 2     45.0   19   Maths   M    3\n",
       " 3     82.0   18   Maths   M    4\n",
       " 4     82.0   18   Maths   F    5\n",
       " ..     ...  ...     ...  ..  ...\n",
       " 594   45.0   19   Maths   F  595\n",
       " 595   75.0   18   Maths   M  596\n",
       " 596   53.0   20   Maths   M  597\n",
       " 597   75.0   20   Maths   M  598\n",
       " 598   88.0   19   Maths   M  599\n",
       " \n",
       " [599 rows x 5 columns],\n",
       "      Score  Age        Subject Sex   ID\n",
       " 0     82.0   18  Data Structue   M    1\n",
       " 1     79.0   19  Data Structue   M    2\n",
       " 2     39.0   19  Data Structue   M    3\n",
       " 3     76.0   18  Data Structue   M    4\n",
       " 4     76.0   18  Data Structue   F    5\n",
       " ..     ...  ...            ...  ..  ...\n",
       " 594   39.0   19  Data Structue   F  595\n",
       " 595   69.0   18  Data Structue   M  596\n",
       " 596   47.0   20  Data Structue   M  597\n",
       " 597   69.0   20  Data Structue   M  598\n",
       " 598    0.0   19  Data Structue   M  599\n",
       " \n",
       " [599 rows x 5 columns],\n",
       "      Score  Age  Subject Sex   ID\n",
       " 0     84.0   18  Physics   M    1\n",
       " 1     81.0   19  Physics   M    2\n",
       " 2     41.0   19  Physics   M    3\n",
       " 3     78.0   18  Physics   M    4\n",
       " 4     78.0   18  Physics   F    5\n",
       " ..     ...  ...      ...  ..  ...\n",
       " 594   41.0   19  Physics   F  595\n",
       " 595   71.0   18  Physics   M  596\n",
       " 596   49.0   20  Physics   M  597\n",
       " 597   71.0   20  Physics   M  598\n",
       " 598   69.0   19  Physics   M  599\n",
       " \n",
       " [599 rows x 5 columns]]"
      ]
     },
     "execution_count": 7,
     "metadata": {},
     "output_type": "execute_result"
    }
   ],
   "source": [
    "all_data =[math_data,ds_data,physics_data]\n",
    "all_data"
   ]
  },
  {
   "cell_type": "code",
   "execution_count": 11,
   "id": "270b5161",
   "metadata": {},
   "outputs": [
    {
     "data": {
      "text/html": [
       "<div>\n",
       "<style scoped>\n",
       "    .dataframe tbody tr th:only-of-type {\n",
       "        vertical-align: middle;\n",
       "    }\n",
       "\n",
       "    .dataframe tbody tr th {\n",
       "        vertical-align: top;\n",
       "    }\n",
       "\n",
       "    .dataframe thead th {\n",
       "        text-align: right;\n",
       "    }\n",
       "</style>\n",
       "<table border=\"1\" class=\"dataframe\">\n",
       "  <thead>\n",
       "    <tr style=\"text-align: right;\">\n",
       "      <th></th>\n",
       "      <th>Score</th>\n",
       "      <th>Age</th>\n",
       "      <th>Subject</th>\n",
       "      <th>Sex</th>\n",
       "      <th>ID</th>\n",
       "    </tr>\n",
       "  </thead>\n",
       "  <tbody>\n",
       "    <tr>\n",
       "      <th>0</th>\n",
       "      <td>88.0</td>\n",
       "      <td>18</td>\n",
       "      <td>Maths</td>\n",
       "      <td>0</td>\n",
       "      <td>1</td>\n",
       "    </tr>\n",
       "    <tr>\n",
       "      <th>1</th>\n",
       "      <td>85.0</td>\n",
       "      <td>19</td>\n",
       "      <td>Maths</td>\n",
       "      <td>0</td>\n",
       "      <td>2</td>\n",
       "    </tr>\n",
       "    <tr>\n",
       "      <th>2</th>\n",
       "      <td>45.0</td>\n",
       "      <td>19</td>\n",
       "      <td>Maths</td>\n",
       "      <td>0</td>\n",
       "      <td>3</td>\n",
       "    </tr>\n",
       "    <tr>\n",
       "      <th>3</th>\n",
       "      <td>82.0</td>\n",
       "      <td>18</td>\n",
       "      <td>Maths</td>\n",
       "      <td>0</td>\n",
       "      <td>4</td>\n",
       "    </tr>\n",
       "    <tr>\n",
       "      <th>4</th>\n",
       "      <td>82.0</td>\n",
       "      <td>18</td>\n",
       "      <td>Maths</td>\n",
       "      <td>0</td>\n",
       "      <td>5</td>\n",
       "    </tr>\n",
       "    <tr>\n",
       "      <th>...</th>\n",
       "      <td>...</td>\n",
       "      <td>...</td>\n",
       "      <td>...</td>\n",
       "      <td>...</td>\n",
       "      <td>...</td>\n",
       "    </tr>\n",
       "    <tr>\n",
       "      <th>594</th>\n",
       "      <td>41.0</td>\n",
       "      <td>19</td>\n",
       "      <td>Physics</td>\n",
       "      <td>0</td>\n",
       "      <td>595</td>\n",
       "    </tr>\n",
       "    <tr>\n",
       "      <th>595</th>\n",
       "      <td>71.0</td>\n",
       "      <td>18</td>\n",
       "      <td>Physics</td>\n",
       "      <td>0</td>\n",
       "      <td>596</td>\n",
       "    </tr>\n",
       "    <tr>\n",
       "      <th>596</th>\n",
       "      <td>49.0</td>\n",
       "      <td>20</td>\n",
       "      <td>Physics</td>\n",
       "      <td>0</td>\n",
       "      <td>597</td>\n",
       "    </tr>\n",
       "    <tr>\n",
       "      <th>597</th>\n",
       "      <td>71.0</td>\n",
       "      <td>20</td>\n",
       "      <td>Physics</td>\n",
       "      <td>0</td>\n",
       "      <td>598</td>\n",
       "    </tr>\n",
       "    <tr>\n",
       "      <th>598</th>\n",
       "      <td>69.0</td>\n",
       "      <td>19</td>\n",
       "      <td>Physics</td>\n",
       "      <td>0</td>\n",
       "      <td>599</td>\n",
       "    </tr>\n",
       "  </tbody>\n",
       "</table>\n",
       "<p>1797 rows × 5 columns</p>\n",
       "</div>"
      ],
      "text/plain": [
       "     Score  Age  Subject  Sex   ID\n",
       "0     88.0   18    Maths    0    1\n",
       "1     85.0   19    Maths    0    2\n",
       "2     45.0   19    Maths    0    3\n",
       "3     82.0   18    Maths    0    4\n",
       "4     82.0   18    Maths    0    5\n",
       "..     ...  ...      ...  ...  ...\n",
       "594   41.0   19  Physics    0  595\n",
       "595   71.0   18  Physics    0  596\n",
       "596   49.0   20  Physics    0  597\n",
       "597   71.0   20  Physics    0  598\n",
       "598   69.0   19  Physics    0  599\n",
       "\n",
       "[1797 rows x 5 columns]"
      ]
     },
     "execution_count": 11,
     "metadata": {},
     "output_type": "execute_result"
    }
   ],
   "source": [
    "for dataset in all_data:\n",
    "    if 'Sex' in dataset.columns:\n",
    "        dataset['Sex'] = pd.Categorical(dataset['Sex'], categories=['M', 'F']).codes + 1\n",
    "all_data_df = pd.concat(all_data)\n",
    "all_data_df\n"
   ]
  },
  {
   "cell_type": "code",
   "execution_count": 12,
   "id": "63eb467c",
   "metadata": {},
   "outputs": [
    {
     "name": "stdout",
     "output_type": "stream",
     "text": [
      "Done\n"
     ]
    }
   ],
   "source": [
    "os.getcwd()\n",
    "\n",
    "\n",
    "all_data_df.to_csv('ScoreFinal.csv',index=False)\n",
    "\n",
    "print (\"Done\")\n"
   ]
  },
  {
   "cell_type": "code",
   "execution_count": null,
   "id": "b198ca46",
   "metadata": {},
   "outputs": [],
   "source": []
  }
 ],
 "metadata": {
  "kernelspec": {
   "display_name": "Python 3",
   "language": "python",
   "name": "python3"
  },
  "language_info": {
   "codemirror_mode": {
    "name": "ipython",
    "version": 3
   },
   "file_extension": ".py",
   "mimetype": "text/x-python",
   "name": "python",
   "nbconvert_exporter": "python",
   "pygments_lexer": "ipython3",
   "version": "3.12.1"
  }
 },
 "nbformat": 4,
 "nbformat_minor": 5
}
